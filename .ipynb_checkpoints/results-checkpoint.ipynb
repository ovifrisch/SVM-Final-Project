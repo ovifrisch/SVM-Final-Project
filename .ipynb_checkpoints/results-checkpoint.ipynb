{
 "cells": [
  {
   "cell_type": "markdown",
   "metadata": {},
   "source": [
    "# Support Vector Classifier"
   ]
  },
  {
   "cell_type": "markdown",
   "metadata": {},
   "source": [
    "#### These results test our library against N-dimensional normal distributions centered at different vectors.\n",
    "#### We compare it to the scikit-learn SVC library, both in terms of time and accuracy\n",
    "#### We vary the number of samples, the dimension of the samples, the number of processes and subprocesses to invoke, the number of classes, and various tuning parameters internal to the SVC"
   ]
  },
  {
   "cell_type": "code",
   "execution_count": 1,
   "metadata": {},
   "outputs": [],
   "source": [
    "import numpy as np\n",
    "from svc2 import SVC\n",
    "import time\n",
    "import matplotlib.pyplot as plt\n",
    "from sklearn.utils import shuffle"
   ]
  },
  {
   "cell_type": "markdown",
   "metadata": {},
   "source": [
    "### Function for generating M samples in N dimensions for C classes"
   ]
  },
  {
   "cell_type": "code",
   "execution_count": 8,
   "metadata": {},
   "outputs": [],
   "source": [
    "def gen_ndim_norm(N, M, C):\n",
    "    # map class label to its normal distb ctr.\n",
    "    def loc_func(i):\n",
    "        return i * 5\n",
    "    \n",
    "    partition = int(M / C) # each class will have this many samples\n",
    "    mat = np.zeros((partition*C, N))\n",
    "    for i in range(C):\n",
    "        for j in range(partition):\n",
    "            mat[(i*partition) + j, :] = np.random.normal(loc=loc_func(i), scale = 1, size=N)\n",
    "    return mat"
   ]
  },
  {
   "cell_type": "code",
   "execution_count": 10,
   "metadata": {},
   "outputs": [],
   "source": [
    "def gen_labels(M, C):\n",
    "    # create a 1 dimensional ndarray like: [0,0,0,1,1,1] if M was 6 and c was 2\n",
    "    partition = int(M / C)\n",
    "    y = np.zeros(partition * C)\n",
    "    for i in range(C):\n",
    "        y[i*partition:i*partition+partition] = np.repeat(i, partition)\n",
    "    return y"
   ]
  },
  {
   "cell_type": "code",
   "execution_count": 4,
   "metadata": {},
   "outputs": [
    {
     "name": "stdout",
     "output_type": "stream",
     "text": [
      "[0. 0. 0. 0. 0. 0. 0. 0. 0. 0. 0. 0. 0. 0. 0. 0. 0. 0. 0. 0. 0. 0. 0. 0.\n",
      " 0. 0. 0. 0. 0. 0. 0. 0. 0. 0. 0. 0. 0. 0. 0. 0. 0. 0. 0. 0. 0. 0. 0. 0.\n",
      " 0. 0. 1. 1. 1. 1. 1. 1. 1. 1. 1. 1. 1. 1. 1. 1. 1. 1. 1. 1. 1. 1. 1. 1.\n",
      " 1. 1. 1. 1. 1. 1. 1. 1. 1. 1. 1. 1. 1. 1. 1. 1. 1. 1. 1. 1. 1. 1. 1. 1.\n",
      " 1. 1. 1. 1.]\n"
     ]
    },
    {
     "data": {
      "text/plain": [
       "[<matplotlib.lines.Line2D at 0x111acde48>]"
      ]
     },
     "execution_count": 4,
     "metadata": {},
     "output_type": "execute_result"
    },
    {
     "data": {
      "image/png": "[encoded data removed]",
      "text/plain": [
       "<Figure size 432x288 with 1 Axes>"
      ]
     },
     "metadata": {
      "needs_background": "light"
     },
     "output_type": "display_data"
    }
   ],
   "source": [
    "# Here's an example of 2 classes of totalling 100 samples in 2 dimensions\n",
    "x = gen_ndim_norm(N = 2, M = 100, C = 2)\n",
    "y = gen_labels(M = 100, C = 2)\n",
    "print(y)\n",
    "plt.plot(x[:50, 0], x[:50, 1], 'bo')\n",
    "plt.plot(x[50:, 0], x[50:, 1], 'ro')"
   ]
  },
  {
   "cell_type": "markdown",
   "metadata": {},
   "source": [
    "### Now we are going to generate many of these samples by varying some parameters. We train an SVC instance on each dataset and report the training time and accuracy for each. "
   ]
  },
  {
   "cell_type": "markdown",
   "metadata": {},
   "source": [
    "#### Here is a function to get the accuracy of the prediction"
   ]
  },
  {
   "cell_type": "code",
   "execution_count": 5,
   "metadata": {},
   "outputs": [],
   "source": [
    "def accuracy(y, yhat):\n",
    "    return sum(y==yhat)"
   ]
  },
  {
   "cell_type": "code",
   "execution_count": null,
   "metadata": {
    "scrolled": false
   },
   "outputs": [
    {
     "name": "stdout",
     "output_type": "stream",
     "text": [
      "(99, 1)\n",
      "(99,)\n",
      "zero\n",
      "one\n"
     ]
    }
   ],
   "source": [
    "dimensions = [1, 5, 10, 20, 50, 100, 300, 1000]\n",
    "samples = [100, 200, 500, 1000, 2000, 5000]\n",
    "min_dims = [1, 5, 10, 20, 50]\n",
    "min_samples = [100, 200, 500]\n",
    "labels = 3\n",
    "\n",
    "for d in min_dims:\n",
    "    for s in min_samples:\n",
    "        x = gen_ndim_norm(N = d, M = s, C = labels)\n",
    "        y = gen_labels(s, labels)\n",
    "        print(x.shape)\n",
    "        print(y.shape)\n",
    "        x, y = shuffle(x, y)\n",
    "        print(\"zero\")\n",
    "        clf = SVC()\n",
    "        print(\"one\")\n",
    "        clf.fit(x, y)\n",
    "        print(\"two\")\n",
    "        yhat = clf.predict(x)\n",
    "        print(\"three\")\n",
    "        acc = accuracy(y, yhat)\n",
    "        print(\"Samples: \" + str(s) + \"  Dims: \" + str(d) + \"  Accuracy: \" + str(acc))\n",
    "        break\n",
    "    break"
   ]
  },
  {
   "cell_type": "code",
   "execution_count": null,
   "metadata": {},
   "outputs": [],
   "source": []
  },
  {
   "cell_type": "code",
   "execution_count": null,
   "metadata": {},
   "outputs": [],
   "source": []
  }
 ],
 "metadata": {
  "kernelspec": {
   "display_name": "Python 3",
   "language": "python",
   "name": "python3"
  },
  "language_info": {
   "codemirror_mode": {
    "name": "ipython",
    "version": 3
   },
   "file_extension": ".py",
   "mimetype": "text/x-python",
   "name": "python",
   "nbconvert_exporter": "python",
   "pygments_lexer": "ipython3",
   "version": "3.6.4"
  }
 },
 "nbformat": 4,
 "nbformat_minor": 2
}
